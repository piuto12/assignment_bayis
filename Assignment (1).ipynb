{
  "nbformat": 4,
  "nbformat_minor": 0,
  "metadata": {
    "colab": {
      "provenance": []
    },
    "kernelspec": {
      "name": "python3",
      "display_name": "Python 3"
    },
    "language_info": {
      "name": "python"
    }
  },
  "cells": [
    {
      "cell_type": "markdown",
      "source": [
        " Write a Python program to find the area of a circle with a given radius\n",
        "using the formula area = pi * r ** 2. Assume that pi is 3.14.\n"
      ],
      "metadata": {
        "id": "p6ZF5IqVuAqb"
      }
    },
    {
      "cell_type": "code",
      "execution_count": null,
      "metadata": {
        "colab": {
          "base_uri": "https://localhost:8080/"
        },
        "id": "n732TIkLtjul",
        "outputId": "6265c0bc-f332-4aa2-c689-717caa134d94"
      },
      "outputs": [
        {
          "output_type": "stream",
          "name": "stdout",
          "text": [
            "the radius 7 then the area of circle is: 153.93804002589985\n"
          ]
        }
      ],
      "source": [
        "import math\n",
        "r=7\n",
        "area=math.pi*r**2\n",
        "print(\"the radius\",r,\"then the area of circle is:\",area)"
      ]
    },
    {
      "cell_type": "markdown",
      "source": [
        " Write a Python program to convert Celsius to Fahrenheit using the\n",
        "formula F = (C * 9/5) + 32.\n",
        "\n"
      ],
      "metadata": {
        "id": "GEwFge-buwUd"
      }
    },
    {
      "cell_type": "code",
      "source": [
        "C=int(input(\"enter the celsius:\"))\n",
        "f= (C * 9/5) + 32\n",
        "print(\"the\",C,\"Celsius convert to Fahrenheit:\",f )"
      ],
      "metadata": {
        "colab": {
          "base_uri": "https://localhost:8080/"
        },
        "id": "GwvzOxSTu5aj",
        "outputId": "92b1fb7b-4b5f-43d7-96e6-8bbe5dffd004"
      },
      "execution_count": null,
      "outputs": [
        {
          "output_type": "stream",
          "name": "stdout",
          "text": [
            "enter the celsius:45\n",
            "the 45 Celsius convert to Fahrenheit: 113.0\n"
          ]
        }
      ]
    },
    {
      "cell_type": "markdown",
      "source": [
        "Write a Python program to find the quotient and remainder of two\n",
        "numbers using the division operator / and the modulo operator %.\n"
      ],
      "metadata": {
        "id": "Tfb2VNM_v6y0"
      }
    },
    {
      "cell_type": "code",
      "source": [
        "\n",
        "a=int(input(\"enter the fist number:\"))\n",
        "b=int(input(\"enter the second number:\"))\n",
        "quotient=a/b\n",
        "remainder=a%b\n",
        "print(\"the quotient is:\",quotient)\n",
        "print(\" the remainder is: \",remainder)"
      ],
      "metadata": {
        "colab": {
          "base_uri": "https://localhost:8080/"
        },
        "id": "LO3CpjA-v853",
        "outputId": "5014d8bb-2e70-4e4d-b3ef-9fb8c7bfc22e"
      },
      "execution_count": null,
      "outputs": [
        {
          "output_type": "stream",
          "name": "stdout",
          "text": [
            "enter the fist number:4\n",
            "enter the second number:3\n",
            "the quotient is: 1.3333333333333333\n",
            " the remainder is:  1\n"
          ]
        }
      ]
    },
    {
      "cell_type": "markdown",
      "source": [
        "ite a Python program to check whether a given number is even or odd using the modulo operator %.\n"
      ],
      "metadata": {
        "id": "bgUWhA8RkWLY"
      }
    },
    {
      "cell_type": "code",
      "source": [
        "n=int(input(\"enter the number:\"))\n",
        "if n % 2 == 0:\n",
        "  print(\"The number is even.\")\n",
        "else:\n",
        "  print(\"The number is odd.\")"
      ],
      "metadata": {
        "id": "fVMaUssDjVys",
        "colab": {
          "base_uri": "https://localhost:8080/"
        },
        "outputId": "64aeb227-1c4c-4ae9-8bb8-862cda7330cf"
      },
      "execution_count": null,
      "outputs": [
        {
          "output_type": "stream",
          "name": "stdout",
          "text": [
            "enter the number:3\n",
            "The number is odd.\n"
          ]
        }
      ]
    },
    {
      "cell_type": "markdown",
      "source": [
        "Write a Python program to calculate the average of three numbers entered by the user."
      ],
      "metadata": {
        "id": "aowX70ASlwbI"
      }
    },
    {
      "cell_type": "code",
      "source": [
        "a=int(input(\"enter the fist number:\"))\n",
        "b=int(input(\"enter the second number:\"))\n",
        "c=int(input(\"enter the 3 number:\"))\n",
        "d=(a+b+c)/3\n",
        "print(\"the average of\",a,b,c,\"is:\",d)"
      ],
      "metadata": {
        "colab": {
          "base_uri": "https://localhost:8080/"
        },
        "id": "kwodM9SPl46Q",
        "outputId": "47f994c5-328f-4c38-a7d0-a6dab6eca99d"
      },
      "execution_count": null,
      "outputs": [
        {
          "output_type": "stream",
          "name": "stdout",
          "text": [
            "enter the fist number:3\n",
            "enter the second number:3\n",
            "enter the 3 number:3\n",
            "the average of 3 3 3 is: 3.0\n"
          ]
        }
      ]
    },
    {
      "cell_type": "markdown",
      "source": [
        "Write a Python program to swap two variables without using a temporary variable.\n"
      ],
      "metadata": {
        "id": "MJlxpFiprN5V"
      }
    },
    {
      "cell_type": "code",
      "source": [
        "a=5\n",
        "b=6\n",
        "print(\"The first variable\",a)\n",
        "print(\"The second variable\",b)\n",
        "a=a+b\n",
        "b=a-b\n",
        "a=a-b\n",
        "print(\"after awap\")\n",
        "print(\"The first variable\",a)\n",
        "print(\"The second variable\",b)"
      ],
      "metadata": {
        "id": "sViWDRfhrPZ1",
        "colab": {
          "base_uri": "https://localhost:8080/"
        },
        "outputId": "2e305ecb-c32a-4d09-a430-3aa7bc86d96c"
      },
      "execution_count": null,
      "outputs": [
        {
          "output_type": "stream",
          "name": "stdout",
          "text": [
            "The first variable 5\n",
            "The second variable 6\n",
            "after awap\n",
            "The first variable 6\n",
            "The second variable 5\n"
          ]
        }
      ]
    },
    {
      "cell_type": "markdown",
      "source": [
        "Write a Python program to calculate the area of a rectangle with given length and breadth."
      ],
      "metadata": {
        "id": "vnIxpC7a08Ah"
      }
    },
    {
      "cell_type": "code",
      "source": [
        "length=int(input(\"enter the length rectangle:\"))\n",
        "breadth=int(input(\"enter the breadth rectangle:\"))\n",
        "area = length * breadth\n",
        "print(\"The area of the rectangle is:\",area)"
      ],
      "metadata": {
        "colab": {
          "base_uri": "https://localhost:8080/"
        },
        "id": "ZfbhdZ_P1ors",
        "outputId": "ede6ff78-7f6d-4028-9296-c8e7b0e2fc36"
      },
      "execution_count": null,
      "outputs": [
        {
          "output_type": "stream",
          "name": "stdout",
          "text": [
            "enter the length rectangle:5\n",
            "enter the breadth rectangle:6\n",
            "The area of the rectangle is: 30\n"
          ]
        }
      ]
    },
    {
      "cell_type": "markdown",
      "source": [
        "Write a Python program to calculate the sum of the digits of a three-digit number."
      ],
      "metadata": {
        "id": "nxvrGfhr2USu"
      }
    },
    {
      "cell_type": "code",
      "source": [
        "n=input(\"Enter the Three Digit No:\")\n",
        "b=0\n",
        "for i in range(len(n)):\n",
        "    b+=int(n[i])\n",
        "print(b)\n"
      ],
      "metadata": {
        "colab": {
          "base_uri": "https://localhost:8080/"
        },
        "id": "XrC15Ytm5JY-",
        "outputId": "a0636c81-949a-497f-d52e-daa997487429"
      },
      "execution_count": null,
      "outputs": [
        {
          "output_type": "stream",
          "name": "stdout",
          "text": [
            "Enter the Three Digit No:342\n",
            "9\n"
          ]
        }
      ]
    },
    {
      "cell_type": "markdown",
      "source": [
        "Write a Python program to check whether a given year is a leap year or not."
      ],
      "metadata": {
        "id": "atu8IGUK7XEp"
      }
    },
    {
      "cell_type": "code",
      "source": [
        "year=int(input(\"enter a year\"))\n",
        "if year % 4 == 0:\n",
        "  if year % 100 == 0:\n",
        "    if year % 400 == 0:\n",
        "      print(\"The year is a leap year.\")\n",
        "    else:\n",
        "      print(\"The year is not a leap year.\")\n",
        "  else:\n",
        "    print(\"The year is a leap year.\")\n",
        "else:\n",
        "  print(\"The year is not a leap year.\")"
      ],
      "metadata": {
        "colab": {
          "base_uri": "https://localhost:8080/"
        },
        "id": "h7-ikN4R91Ew",
        "outputId": "3e40291f-9434-4ac9-ca94-112c64aa00bf"
      },
      "execution_count": null,
      "outputs": [
        {
          "output_type": "stream",
          "name": "stdout",
          "text": [
            "enter a year2004\n",
            "The year is a leap year.\n"
          ]
        }
      ]
    },
    {
      "cell_type": "markdown",
      "source": [
        "Write a Python program to find the maximum and minimum of two numbers entered by the user."
      ],
      "metadata": {
        "id": "EZeQ8xEJA3V1"
      }
    },
    {
      "cell_type": "code",
      "source": [
        "num1 = float(input(\"Enter the first number: \"))\n",
        "num2 = float(input(\"Enter the second number: \"))\n",
        "if num1 > num2:\n",
        "  max_num = num1\n",
        "else:\n",
        "  max_num = num2\n",
        "if num1 < num2:\n",
        "  min_num = num1\n",
        "else:\n",
        "  min_num = num2\n",
        "print(\"The maximum of the two numbers is\", max_num)\n",
        "print(\"The minimum of the two numbers is\",min_num)"
      ],
      "metadata": {
        "colab": {
          "base_uri": "https://localhost:8080/"
        },
        "id": "yYLLeKlYA7PL",
        "outputId": "30e61e58-eb47-45a8-e281-8988554728e9"
      },
      "execution_count": null,
      "outputs": [
        {
          "output_type": "stream",
          "name": "stdout",
          "text": [
            "Enter the first number: 4\n",
            "Enter the second number: 5\n",
            "The maximum of the two numbers is 5.0\n",
            "The minimum of the two numbers is 4.0\n"
          ]
        }
      ]
    }
  ]
}